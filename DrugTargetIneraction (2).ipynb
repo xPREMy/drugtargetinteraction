{
  "nbformat": 4,
  "nbformat_minor": 0,
  "metadata": {
    "colab": {
      "provenance": []
    },
    "kernelspec": {
      "name": "python3",
      "display_name": "Python 3"
    },
    "language_info": {
      "name": "python"
    }
  },
  "cells": [
    {
      "cell_type": "code",
      "execution_count": 1,
      "metadata": {
        "id": "-obBjvjoGPEC",
        "colab": {
          "base_uri": "https://localhost:8080/",
          "height": 1000
        },
        "collapsed": true,
        "outputId": "900e9b95-9b00-4bbf-976b-9c81dfe329fe"
      },
      "outputs": [
        {
          "output_type": "stream",
          "name": "stdout",
          "text": [
            "Collecting torch_geometric\n",
            "  Using cached torch_geometric-2.6.1-py3-none-any.whl.metadata (63 kB)\n",
            "Collecting PyTDC\n",
            "  Using cached pytdc-1.1.15.tar.gz (154 kB)\n",
            "  Preparing metadata (setup.py) ... \u001b[?25l\u001b[?25hdone\n",
            "Requirement already satisfied: aiohttp in /usr/local/lib/python3.11/dist-packages (from torch_geometric) (3.11.15)\n",
            "Requirement already satisfied: fsspec in /usr/local/lib/python3.11/dist-packages (from torch_geometric) (2025.3.2)\n",
            "Requirement already satisfied: jinja2 in /usr/local/lib/python3.11/dist-packages (from torch_geometric) (3.1.6)\n",
            "Requirement already satisfied: numpy in /usr/local/lib/python3.11/dist-packages (from torch_geometric) (2.0.2)\n",
            "Requirement already satisfied: psutil>=5.8.0 in /usr/local/lib/python3.11/dist-packages (from torch_geometric) (5.9.5)\n",
            "Requirement already satisfied: pyparsing in /usr/local/lib/python3.11/dist-packages (from torch_geometric) (3.2.3)\n",
            "Requirement already satisfied: requests in /usr/local/lib/python3.11/dist-packages (from torch_geometric) (2.32.3)\n",
            "Requirement already satisfied: tqdm in /usr/local/lib/python3.11/dist-packages (from torch_geometric) (4.67.1)\n",
            "Collecting accelerate==0.33.0 (from PyTDC)\n",
            "  Using cached accelerate-0.33.0-py3-none-any.whl.metadata (18 kB)\n",
            "Collecting dataclasses<1.0,>=0.6 (from PyTDC)\n",
            "  Using cached dataclasses-0.6-py3-none-any.whl.metadata (3.0 kB)\n",
            "Requirement already satisfied: datasets<2.20.0 in /usr/local/lib/python3.11/dist-packages (from PyTDC) (2.14.4)\n",
            "Collecting evaluate==0.4.2 (from PyTDC)\n",
            "  Using cached evaluate-0.4.2-py3-none-any.whl.metadata (9.3 kB)\n",
            "Collecting fuzzywuzzy<1.0,>=0.18.0 (from PyTDC)\n",
            "  Using cached fuzzywuzzy-0.18.0-py2.py3-none-any.whl.metadata (4.9 kB)\n",
            "Requirement already satisfied: huggingface_hub<1.0,>=0.20.3 in /usr/local/lib/python3.11/dist-packages (from PyTDC) (0.33.2)\n",
            "Collecting numpy (from torch_geometric)\n",
            "  Using cached numpy-1.26.4-cp311-cp311-manylinux_2_17_x86_64.manylinux2014_x86_64.whl.metadata (61 kB)\n",
            "Requirement already satisfied: openpyxl<4.0.0,>=3.0.10 in /usr/local/lib/python3.11/dist-packages (from PyTDC) (3.1.5)\n",
            "Requirement already satisfied: pandas<3.0.0,>=2.1.4 in /usr/local/lib/python3.11/dist-packages (from PyTDC) (2.2.2)\n",
            "Requirement already satisfied: scikit-learn>=1.2.2 in /usr/local/lib/python3.11/dist-packages (from PyTDC) (1.6.1)\n",
            "Requirement already satisfied: seaborn<1.0.0,>=0.12.2 in /usr/local/lib/python3.11/dist-packages (from PyTDC) (0.13.2)\n",
            "Collecting transformers<4.51.0,>=4.43.0 (from PyTDC)\n",
            "  Using cached transformers-4.50.3-py3-none-any.whl.metadata (39 kB)\n",
            "Collecting cellxgene-census==1.15.0 (from PyTDC)\n",
            "  Using cached cellxgene_census-1.15.0-py3-none-any.whl.metadata (5.2 kB)\n",
            "Collecting gget<1.0.0,>=0.28.4 (from PyTDC)\n",
            "  Using cached gget-0.29.2-py3-none-any.whl.metadata (7.9 kB)\n",
            "Requirement already satisfied: pydantic<3.0.0,>=2.6.3 in /usr/local/lib/python3.11/dist-packages (from PyTDC) (2.11.7)\n",
            "Collecting rdkit<2024.3.1,>=2023.9.5 (from PyTDC)\n",
            "  Using cached rdkit-2023.9.6-cp311-cp311-manylinux_2_17_x86_64.manylinux2014_x86_64.whl.metadata (3.9 kB)\n",
            "Collecting tiledbsoma<2.0.0,>=1.7.2 (from PyTDC)\n",
            "  Using cached tiledbsoma-1.17.0-cp311-cp311-manylinux_2_28_x86_64.whl.metadata (7.0 kB)\n",
            "Requirement already satisfied: packaging>=20.0 in /usr/local/lib/python3.11/dist-packages (from accelerate==0.33.0->PyTDC) (24.2)\n",
            "Requirement already satisfied: pyyaml in /usr/local/lib/python3.11/dist-packages (from accelerate==0.33.0->PyTDC) (6.0.2)\n",
            "Requirement already satisfied: torch>=1.10.0 in /usr/local/lib/python3.11/dist-packages (from accelerate==0.33.0->PyTDC) (2.6.0+cu124)\n",
            "Requirement already satisfied: safetensors>=0.3.1 in /usr/local/lib/python3.11/dist-packages (from accelerate==0.33.0->PyTDC) (0.5.3)\n",
            "  Using cached tiledbsoma-1.11.4-cp311-cp311-manylinux_2_17_x86_64.manylinux2014_x86_64.whl.metadata (5.7 kB)\n",
            "Collecting anndata (from cellxgene-census==1.15.0->PyTDC)\n",
            "  Using cached anndata-0.11.4-py3-none-any.whl.metadata (9.3 kB)\n",
            "Requirement already satisfied: typing-extensions in /usr/local/lib/python3.11/dist-packages (from cellxgene-census==1.15.0->PyTDC) (4.14.0)\n",
            "Collecting s3fs>=2021.06.1 (from cellxgene-census==1.15.0->PyTDC)\n",
            "  Using cached s3fs-2025.5.1-py3-none-any.whl.metadata (1.9 kB)\n",
            "Requirement already satisfied: dill in /usr/local/lib/python3.11/dist-packages (from evaluate==0.4.2->PyTDC) (0.3.7)\n",
            "Requirement already satisfied: xxhash in /usr/local/lib/python3.11/dist-packages (from evaluate==0.4.2->PyTDC) (3.5.0)\n",
            "Requirement already satisfied: multiprocess in /usr/local/lib/python3.11/dist-packages (from evaluate==0.4.2->PyTDC) (0.70.15)\n",
            "Requirement already satisfied: pyarrow>=8.0.0 in /usr/local/lib/python3.11/dist-packages (from datasets<2.20.0->PyTDC) (18.1.0)\n",
            "Requirement already satisfied: ipython in /usr/local/lib/python3.11/dist-packages (from gget<1.0.0,>=0.28.4->PyTDC) (7.34.0)\n",
            "Requirement already satisfied: matplotlib in /usr/local/lib/python3.11/dist-packages (from gget<1.0.0,>=0.28.4->PyTDC) (3.10.0)\n",
            "Collecting mysql-connector-python>=8.0.32 (from gget<1.0.0,>=0.28.4->PyTDC)\n",
            "  Using cached mysql_connector_python-9.3.0-cp311-cp311-manylinux_2_28_x86_64.whl.metadata (7.2 kB)\n",
            "Requirement already satisfied: beautifulsoup4>=4.10.0 in /usr/local/lib/python3.11/dist-packages (from gget<1.0.0,>=0.28.4->PyTDC) (4.13.4)\n",
            "Requirement already satisfied: ipywidgets in /usr/local/lib/python3.11/dist-packages (from gget<1.0.0,>=0.28.4->PyTDC) (7.7.1)\n",
            "Requirement already satisfied: lxml in /usr/local/lib/python3.11/dist-packages (from gget<1.0.0,>=0.28.4->PyTDC) (5.4.0)\n",
            "Requirement already satisfied: filelock in /usr/local/lib/python3.11/dist-packages (from huggingface_hub<1.0,>=0.20.3->PyTDC) (3.18.0)\n",
            "Requirement already satisfied: hf-xet<2.0.0,>=1.1.2 in /usr/local/lib/python3.11/dist-packages (from huggingface_hub<1.0,>=0.20.3->PyTDC) (1.1.5)\n",
            "Requirement already satisfied: et-xmlfile in /usr/local/lib/python3.11/dist-packages (from openpyxl<4.0.0,>=3.0.10->PyTDC) (2.0.0)\n",
            "Requirement already satisfied: python-dateutil>=2.8.2 in /usr/local/lib/python3.11/dist-packages (from pandas<3.0.0,>=2.1.4->PyTDC) (2.9.0.post0)\n",
            "Requirement already satisfied: pytz>=2020.1 in /usr/local/lib/python3.11/dist-packages (from pandas<3.0.0,>=2.1.4->PyTDC) (2025.2)\n",
            "Requirement already satisfied: tzdata>=2022.7 in /usr/local/lib/python3.11/dist-packages (from pandas<3.0.0,>=2.1.4->PyTDC) (2025.2)\n",
            "Requirement already satisfied: annotated-types>=0.6.0 in /usr/local/lib/python3.11/dist-packages (from pydantic<3.0.0,>=2.6.3->PyTDC) (0.7.0)\n",
            "Requirement already satisfied: pydantic-core==2.33.2 in /usr/local/lib/python3.11/dist-packages (from pydantic<3.0.0,>=2.6.3->PyTDC) (2.33.2)\n",
            "Requirement already satisfied: typing-inspection>=0.4.0 in /usr/local/lib/python3.11/dist-packages (from pydantic<3.0.0,>=2.6.3->PyTDC) (0.4.1)\n",
            "Requirement already satisfied: Pillow in /usr/local/lib/python3.11/dist-packages (from rdkit<2024.3.1,>=2023.9.5->PyTDC) (11.2.1)\n",
            "Requirement already satisfied: charset-normalizer<4,>=2 in /usr/local/lib/python3.11/dist-packages (from requests->torch_geometric) (3.4.2)\n",
            "Requirement already satisfied: idna<4,>=2.5 in /usr/local/lib/python3.11/dist-packages (from requests->torch_geometric) (3.10)\n",
            "Requirement already satisfied: urllib3<3,>=1.21.1 in /usr/local/lib/python3.11/dist-packages (from requests->torch_geometric) (2.4.0)\n",
            "Requirement already satisfied: certifi>=2017.4.17 in /usr/local/lib/python3.11/dist-packages (from requests->torch_geometric) (2025.6.15)\n",
            "Requirement already satisfied: scipy>=1.6.0 in /usr/local/lib/python3.11/dist-packages (from scikit-learn>=1.2.2->PyTDC) (1.15.3)\n",
            "Requirement already satisfied: joblib>=1.2.0 in /usr/local/lib/python3.11/dist-packages (from scikit-learn>=1.2.2->PyTDC) (1.5.1)\n",
            "Requirement already satisfied: threadpoolctl>=3.1.0 in /usr/local/lib/python3.11/dist-packages (from scikit-learn>=1.2.2->PyTDC) (3.6.0)\n",
            "Requirement already satisfied: attrs>=22.2 in /usr/local/lib/python3.11/dist-packages (from tiledbsoma<2.0.0,>=1.7.2->PyTDC) (25.3.0)\n",
            "Requirement already satisfied: numba>=0.58.0 in /usr/local/lib/python3.11/dist-packages (from tiledbsoma<2.0.0,>=1.7.2->PyTDC) (0.60.0)\n",
            "Collecting pyarrow-hotfix (from tiledbsoma<2.0.0,>=1.7.2->PyTDC)\n",
            "  Using cached pyarrow_hotfix-0.7-py3-none-any.whl.metadata (3.6 kB)\n",
            "Collecting scanpy>=1.9.2 (from tiledbsoma<2.0.0,>=1.7.2->PyTDC)\n",
            "  Using cached scanpy-1.11.3-py3-none-any.whl.metadata (9.0 kB)\n",
            "Collecting somacore==1.0.11 (from tiledbsoma<2.0.0,>=1.7.2->PyTDC)\n",
            "  Using cached somacore-1.0.11-py3-none-any.whl.metadata (1.5 kB)\n",
            "Collecting tiledb~=0.29.0 (from tiledbsoma<2.0.0,>=1.7.2->PyTDC)\n",
            "  Using cached tiledb-0.29.1-cp311-cp311-manylinux_2_17_x86_64.manylinux2014_x86_64.whl.metadata (3.6 kB)\n",
            "Requirement already satisfied: regex!=2019.12.17 in /usr/local/lib/python3.11/dist-packages (from transformers<4.51.0,>=4.43.0->PyTDC) (2024.11.6)\n",
            "Requirement already satisfied: tokenizers<0.22,>=0.21 in /usr/local/lib/python3.11/dist-packages (from transformers<4.51.0,>=4.43.0->PyTDC) (0.21.2)\n",
            "Requirement already satisfied: aiohappyeyeballs>=2.3.0 in /usr/local/lib/python3.11/dist-packages (from aiohttp->torch_geometric) (2.6.1)\n",
            "Requirement already satisfied: aiosignal>=1.1.2 in /usr/local/lib/python3.11/dist-packages (from aiohttp->torch_geometric) (1.3.2)\n",
            "Requirement already satisfied: frozenlist>=1.1.1 in /usr/local/lib/python3.11/dist-packages (from aiohttp->torch_geometric) (1.7.0)\n",
            "Requirement already satisfied: multidict<7.0,>=4.5 in /usr/local/lib/python3.11/dist-packages (from aiohttp->torch_geometric) (6.6.3)\n",
            "Requirement already satisfied: propcache>=0.2.0 in /usr/local/lib/python3.11/dist-packages (from aiohttp->torch_geometric) (0.3.2)\n",
            "Requirement already satisfied: yarl<2.0,>=1.17.0 in /usr/local/lib/python3.11/dist-packages (from aiohttp->torch_geometric) (1.20.1)\n",
            "Requirement already satisfied: MarkupSafe>=2.0 in /usr/local/lib/python3.11/dist-packages (from jinja2->torch_geometric) (3.0.2)\n",
            "Collecting array-api-compat!=1.5,>1.4 (from anndata->cellxgene-census==1.15.0->PyTDC)\n",
            "  Using cached array_api_compat-1.12.0-py3-none-any.whl.metadata (2.5 kB)\n",
            "Requirement already satisfied: h5py>=3.7 in /usr/local/lib/python3.11/dist-packages (from anndata->cellxgene-census==1.15.0->PyTDC) (3.14.0)\n",
            "Requirement already satisfied: natsort in /usr/local/lib/python3.11/dist-packages (from anndata->cellxgene-census==1.15.0->PyTDC) (8.4.0)\n",
            "Requirement already satisfied: soupsieve>1.2 in /usr/local/lib/python3.11/dist-packages (from beautifulsoup4>=4.10.0->gget<1.0.0,>=0.28.4->PyTDC) (2.7)\n",
            "Requirement already satisfied: contourpy>=1.0.1 in /usr/local/lib/python3.11/dist-packages (from matplotlib->gget<1.0.0,>=0.28.4->PyTDC) (1.3.2)\n",
            "Requirement already satisfied: cycler>=0.10 in /usr/local/lib/python3.11/dist-packages (from matplotlib->gget<1.0.0,>=0.28.4->PyTDC) (0.12.1)\n",
            "Requirement already satisfied: fonttools>=4.22.0 in /usr/local/lib/python3.11/dist-packages (from matplotlib->gget<1.0.0,>=0.28.4->PyTDC) (4.58.4)\n",
            "Requirement already satisfied: kiwisolver>=1.3.1 in /usr/local/lib/python3.11/dist-packages (from matplotlib->gget<1.0.0,>=0.28.4->PyTDC) (1.4.8)\n",
            "Requirement already satisfied: llvmlite<0.44,>=0.43.0dev0 in /usr/local/lib/python3.11/dist-packages (from numba>=0.58.0->tiledbsoma<2.0.0,>=1.7.2->PyTDC) (0.43.0)\n",
            "Requirement already satisfied: six>=1.5 in /usr/local/lib/python3.11/dist-packages (from python-dateutil>=2.8.2->pandas<3.0.0,>=2.1.4->PyTDC) (1.17.0)\n",
            "Collecting aiobotocore<3.0.0,>=2.5.4 (from s3fs>=2021.06.1->cellxgene-census==1.15.0->PyTDC)\n",
            "  Using cached aiobotocore-2.23.0-py3-none-any.whl.metadata (24 kB)\n",
            "INFO: pip is looking at multiple versions of s3fs to determine which version is compatible with other requirements. This could take a while.\n",
            "Collecting s3fs>=2021.06.1 (from cellxgene-census==1.15.0->PyTDC)\n",
            "  Using cached s3fs-2025.5.0-py3-none-any.whl.metadata (1.9 kB)\n",
            "  Using cached s3fs-2025.3.2-py3-none-any.whl.metadata (1.9 kB)\n",
            "Collecting legacy-api-wrap>=1.4.1 (from scanpy>=1.9.2->tiledbsoma<2.0.0,>=1.7.2->PyTDC)\n",
            "  Using cached legacy_api_wrap-1.4.1-py3-none-any.whl.metadata (2.1 kB)\n",
            "Requirement already satisfied: networkx>=2.7.1 in /usr/local/lib/python3.11/dist-packages (from scanpy>=1.9.2->tiledbsoma<2.0.0,>=1.7.2->PyTDC) (3.5)\n",
            "Requirement already satisfied: patsy!=1.0.0 in /usr/local/lib/python3.11/dist-packages (from scanpy>=1.9.2->tiledbsoma<2.0.0,>=1.7.2->PyTDC) (1.0.1)\n",
            "Requirement already satisfied: pynndescent>=0.5.13 in /usr/local/lib/python3.11/dist-packages (from scanpy>=1.9.2->tiledbsoma<2.0.0,>=1.7.2->PyTDC) (0.5.13)\n",
            "Collecting session-info2 (from scanpy>=1.9.2->tiledbsoma<2.0.0,>=1.7.2->PyTDC)\n",
            "  Using cached session_info2-0.1.2-py3-none-any.whl.metadata (2.5 kB)\n",
            "Requirement already satisfied: statsmodels>=0.14.4 in /usr/local/lib/python3.11/dist-packages (from scanpy>=1.9.2->tiledbsoma<2.0.0,>=1.7.2->PyTDC) (0.14.4)\n",
            "Requirement already satisfied: umap-learn>=0.5.6 in /usr/local/lib/python3.11/dist-packages (from scanpy>=1.9.2->tiledbsoma<2.0.0,>=1.7.2->PyTDC) (0.5.9.post2)\n",
            "Collecting nvidia-cuda-nvrtc-cu12==12.4.127 (from torch>=1.10.0->accelerate==0.33.0->PyTDC)\n",
            "  Using cached nvidia_cuda_nvrtc_cu12-12.4.127-py3-none-manylinux2014_x86_64.whl.metadata (1.5 kB)\n",
            "Collecting nvidia-cuda-runtime-cu12==12.4.127 (from torch>=1.10.0->accelerate==0.33.0->PyTDC)\n",
            "  Using cached nvidia_cuda_runtime_cu12-12.4.127-py3-none-manylinux2014_x86_64.whl.metadata (1.5 kB)\n",
            "Collecting nvidia-cuda-cupti-cu12==12.4.127 (from torch>=1.10.0->accelerate==0.33.0->PyTDC)\n",
            "  Using cached nvidia_cuda_cupti_cu12-12.4.127-py3-none-manylinux2014_x86_64.whl.metadata (1.6 kB)\n",
            "Collecting nvidia-cudnn-cu12==9.1.0.70 (from torch>=1.10.0->accelerate==0.33.0->PyTDC)\n",
            "  Using cached nvidia_cudnn_cu12-9.1.0.70-py3-none-manylinux2014_x86_64.whl.metadata (1.6 kB)\n",
            "Collecting nvidia-cublas-cu12==12.4.5.8 (from torch>=1.10.0->accelerate==0.33.0->PyTDC)\n",
            "  Using cached nvidia_cublas_cu12-12.4.5.8-py3-none-manylinux2014_x86_64.whl.metadata (1.5 kB)\n",
            "Collecting nvidia-cufft-cu12==11.2.1.3 (from torch>=1.10.0->accelerate==0.33.0->PyTDC)\n",
            "  Using cached nvidia_cufft_cu12-11.2.1.3-py3-none-manylinux2014_x86_64.whl.metadata (1.5 kB)\n",
            "Collecting nvidia-curand-cu12==10.3.5.147 (from torch>=1.10.0->accelerate==0.33.0->PyTDC)\n",
            "  Using cached nvidia_curand_cu12-10.3.5.147-py3-none-manylinux2014_x86_64.whl.metadata (1.5 kB)\n",
            "Collecting nvidia-cusolver-cu12==11.6.1.9 (from torch>=1.10.0->accelerate==0.33.0->PyTDC)\n",
            "  Using cached nvidia_cusolver_cu12-11.6.1.9-py3-none-manylinux2014_x86_64.whl.metadata (1.6 kB)\n",
            "Collecting nvidia-cusparse-cu12==12.3.1.170 (from torch>=1.10.0->accelerate==0.33.0->PyTDC)\n",
            "  Using cached nvidia_cusparse_cu12-12.3.1.170-py3-none-manylinux2014_x86_64.whl.metadata (1.6 kB)\n",
            "Requirement already satisfied: nvidia-cusparselt-cu12==0.6.2 in /usr/local/lib/python3.11/dist-packages (from torch>=1.10.0->accelerate==0.33.0->PyTDC) (0.6.2)\n",
            "Requirement already satisfied: nvidia-nccl-cu12==2.21.5 in /usr/local/lib/python3.11/dist-packages (from torch>=1.10.0->accelerate==0.33.0->PyTDC) (2.21.5)\n",
            "Requirement already satisfied: nvidia-nvtx-cu12==12.4.127 in /usr/local/lib/python3.11/dist-packages (from torch>=1.10.0->accelerate==0.33.0->PyTDC) (12.4.127)\n",
            "Collecting nvidia-nvjitlink-cu12==12.4.127 (from torch>=1.10.0->accelerate==0.33.0->PyTDC)\n",
            "  Using cached nvidia_nvjitlink_cu12-12.4.127-py3-none-manylinux2014_x86_64.whl.metadata (1.5 kB)\n",
            "Requirement already satisfied: triton==3.2.0 in /usr/local/lib/python3.11/dist-packages (from torch>=1.10.0->accelerate==0.33.0->PyTDC) (3.2.0)\n",
            "Requirement already satisfied: sympy==1.13.1 in /usr/local/lib/python3.11/dist-packages (from torch>=1.10.0->accelerate==0.33.0->PyTDC) (1.13.1)\n",
            "Requirement already satisfied: mpmath<1.4,>=1.1.0 in /usr/local/lib/python3.11/dist-packages (from sympy==1.13.1->torch>=1.10.0->accelerate==0.33.0->PyTDC) (1.3.0)\n",
            "Requirement already satisfied: setuptools>=18.5 in /usr/local/lib/python3.11/dist-packages (from ipython->gget<1.0.0,>=0.28.4->PyTDC) (75.2.0)\n",
            "Collecting jedi>=0.16 (from ipython->gget<1.0.0,>=0.28.4->PyTDC)\n",
            "  Using cached jedi-0.19.2-py2.py3-none-any.whl.metadata (22 kB)\n",
            "Requirement already satisfied: decorator in /usr/local/lib/python3.11/dist-packages (from ipython->gget<1.0.0,>=0.28.4->PyTDC) (4.4.2)\n",
            "Requirement already satisfied: pickleshare in /usr/local/lib/python3.11/dist-packages (from ipython->gget<1.0.0,>=0.28.4->PyTDC) (0.7.5)\n",
            "Requirement already satisfied: traitlets>=4.2 in /usr/local/lib/python3.11/dist-packages (from ipython->gget<1.0.0,>=0.28.4->PyTDC) (5.7.1)\n",
            "Requirement already satisfied: prompt-toolkit!=3.0.0,!=3.0.1,<3.1.0,>=2.0.0 in /usr/local/lib/python3.11/dist-packages (from ipython->gget<1.0.0,>=0.28.4->PyTDC) (3.0.51)\n",
            "Requirement already satisfied: pygments in /usr/local/lib/python3.11/dist-packages (from ipython->gget<1.0.0,>=0.28.4->PyTDC) (2.19.2)\n",
            "Requirement already satisfied: backcall in /usr/local/lib/python3.11/dist-packages (from ipython->gget<1.0.0,>=0.28.4->PyTDC) (0.2.0)\n",
            "Requirement already satisfied: matplotlib-inline in /usr/local/lib/python3.11/dist-packages (from ipython->gget<1.0.0,>=0.28.4->PyTDC) (0.1.7)\n",
            "Requirement already satisfied: pexpect>4.3 in /usr/local/lib/python3.11/dist-packages (from ipython->gget<1.0.0,>=0.28.4->PyTDC) (4.9.0)\n",
            "Requirement already satisfied: ipykernel>=4.5.1 in /usr/local/lib/python3.11/dist-packages (from ipywidgets->gget<1.0.0,>=0.28.4->PyTDC) (6.17.1)\n",
            "Requirement already satisfied: ipython-genutils~=0.2.0 in /usr/local/lib/python3.11/dist-packages (from ipywidgets->gget<1.0.0,>=0.28.4->PyTDC) (0.2.0)\n",
            "Requirement already satisfied: widgetsnbextension~=3.6.0 in /usr/local/lib/python3.11/dist-packages (from ipywidgets->gget<1.0.0,>=0.28.4->PyTDC) (3.6.10)\n",
            "Requirement already satisfied: jupyterlab-widgets>=1.0.0 in /usr/local/lib/python3.11/dist-packages (from ipywidgets->gget<1.0.0,>=0.28.4->PyTDC) (3.0.15)\n",
            "Collecting aioitertools<1.0.0,>=0.5.1 (from aiobotocore<3.0.0,>=2.5.4->s3fs>=2021.06.1->cellxgene-census==1.15.0->PyTDC)\n",
            "  Using cached aioitertools-0.12.0-py3-none-any.whl.metadata (3.8 kB)\n",
            "Collecting botocore<1.38.28,>=1.38.23 (from aiobotocore<3.0.0,>=2.5.4->s3fs>=2021.06.1->cellxgene-census==1.15.0->PyTDC)\n",
            "  Using cached botocore-1.38.27-py3-none-any.whl.metadata (5.7 kB)\n",
            "Collecting jmespath<2.0.0,>=0.7.1 (from aiobotocore<3.0.0,>=2.5.4->s3fs>=2021.06.1->cellxgene-census==1.15.0->PyTDC)\n",
            "  Using cached jmespath-1.0.1-py3-none-any.whl.metadata (7.6 kB)\n",
            "Requirement already satisfied: wrapt<2.0.0,>=1.10.10 in /usr/local/lib/python3.11/dist-packages (from aiobotocore<3.0.0,>=2.5.4->s3fs>=2021.06.1->cellxgene-census==1.15.0->PyTDC) (1.17.2)\n",
            "Requirement already satisfied: debugpy>=1.0 in /usr/local/lib/python3.11/dist-packages (from ipykernel>=4.5.1->ipywidgets->gget<1.0.0,>=0.28.4->PyTDC) (1.8.0)\n",
            "Requirement already satisfied: jupyter-client>=6.1.12 in /usr/local/lib/python3.11/dist-packages (from ipykernel>=4.5.1->ipywidgets->gget<1.0.0,>=0.28.4->PyTDC) (6.1.12)\n",
            "Requirement already satisfied: nest-asyncio in /usr/local/lib/python3.11/dist-packages (from ipykernel>=4.5.1->ipywidgets->gget<1.0.0,>=0.28.4->PyTDC) (1.6.0)\n",
            "Requirement already satisfied: pyzmq>=17 in /usr/local/lib/python3.11/dist-packages (from ipykernel>=4.5.1->ipywidgets->gget<1.0.0,>=0.28.4->PyTDC) (24.0.1)\n",
            "Requirement already satisfied: tornado>=6.1 in /usr/local/lib/python3.11/dist-packages (from ipykernel>=4.5.1->ipywidgets->gget<1.0.0,>=0.28.4->PyTDC) (6.4.2)\n",
            "Requirement already satisfied: parso<0.9.0,>=0.8.4 in /usr/local/lib/python3.11/dist-packages (from jedi>=0.16->ipython->gget<1.0.0,>=0.28.4->PyTDC) (0.8.4)\n",
            "Requirement already satisfied: ptyprocess>=0.5 in /usr/local/lib/python3.11/dist-packages (from pexpect>4.3->ipython->gget<1.0.0,>=0.28.4->PyTDC) (0.7.0)\n",
            "Requirement already satisfied: wcwidth in /usr/local/lib/python3.11/dist-packages (from prompt-toolkit!=3.0.0,!=3.0.1,<3.1.0,>=2.0.0->ipython->gget<1.0.0,>=0.28.4->PyTDC) (0.2.13)\n",
            "Requirement already satisfied: notebook>=4.4.1 in /usr/local/lib/python3.11/dist-packages (from widgetsnbextension~=3.6.0->ipywidgets->gget<1.0.0,>=0.28.4->PyTDC) (6.5.7)\n",
            "Requirement already satisfied: jupyter-core>=4.6.0 in /usr/local/lib/python3.11/dist-packages (from jupyter-client>=6.1.12->ipykernel>=4.5.1->ipywidgets->gget<1.0.0,>=0.28.4->PyTDC) (5.8.1)\n",
            "Requirement already satisfied: argon2-cffi in /usr/local/lib/python3.11/dist-packages (from notebook>=4.4.1->widgetsnbextension~=3.6.0->ipywidgets->gget<1.0.0,>=0.28.4->PyTDC) (25.1.0)\n",
            "Requirement already satisfied: nbformat in /usr/local/lib/python3.11/dist-packages (from notebook>=4.4.1->widgetsnbextension~=3.6.0->ipywidgets->gget<1.0.0,>=0.28.4->PyTDC) (5.10.4)\n",
            "Requirement already satisfied: nbconvert>=5 in /usr/local/lib/python3.11/dist-packages (from notebook>=4.4.1->widgetsnbextension~=3.6.0->ipywidgets->gget<1.0.0,>=0.28.4->PyTDC) (7.16.6)\n",
            "Requirement already satisfied: Send2Trash>=1.8.0 in /usr/local/lib/python3.11/dist-packages (from notebook>=4.4.1->widgetsnbextension~=3.6.0->ipywidgets->gget<1.0.0,>=0.28.4->PyTDC) (1.8.3)\n",
            "Requirement already satisfied: terminado>=0.8.3 in /usr/local/lib/python3.11/dist-packages (from notebook>=4.4.1->widgetsnbextension~=3.6.0->ipywidgets->gget<1.0.0,>=0.28.4->PyTDC) (0.18.1)\n",
            "Requirement already satisfied: prometheus-client in /usr/local/lib/python3.11/dist-packages (from notebook>=4.4.1->widgetsnbextension~=3.6.0->ipywidgets->gget<1.0.0,>=0.28.4->PyTDC) (0.22.1)\n",
            "Requirement already satisfied: nbclassic>=0.4.7 in /usr/local/lib/python3.11/dist-packages (from notebook>=4.4.1->widgetsnbextension~=3.6.0->ipywidgets->gget<1.0.0,>=0.28.4->PyTDC) (1.3.1)\n",
            "Requirement already satisfied: platformdirs>=2.5 in /usr/local/lib/python3.11/dist-packages (from jupyter-core>=4.6.0->jupyter-client>=6.1.12->ipykernel>=4.5.1->ipywidgets->gget<1.0.0,>=0.28.4->PyTDC) (4.3.8)\n",
            "Requirement already satisfied: notebook-shim>=0.2.3 in /usr/local/lib/python3.11/dist-packages (from nbclassic>=0.4.7->notebook>=4.4.1->widgetsnbextension~=3.6.0->ipywidgets->gget<1.0.0,>=0.28.4->PyTDC) (0.2.4)\n",
            "Requirement already satisfied: bleach!=5.0.0 in /usr/local/lib/python3.11/dist-packages (from bleach[css]!=5.0.0->nbconvert>=5->notebook>=4.4.1->widgetsnbextension~=3.6.0->ipywidgets->gget<1.0.0,>=0.28.4->PyTDC) (6.2.0)\n",
            "Requirement already satisfied: defusedxml in /usr/local/lib/python3.11/dist-packages (from nbconvert>=5->notebook>=4.4.1->widgetsnbextension~=3.6.0->ipywidgets->gget<1.0.0,>=0.28.4->PyTDC) (0.7.1)\n",
            "Requirement already satisfied: jupyterlab-pygments in /usr/local/lib/python3.11/dist-packages (from nbconvert>=5->notebook>=4.4.1->widgetsnbextension~=3.6.0->ipywidgets->gget<1.0.0,>=0.28.4->PyTDC) (0.3.0)\n",
            "Requirement already satisfied: mistune<4,>=2.0.3 in /usr/local/lib/python3.11/dist-packages (from nbconvert>=5->notebook>=4.4.1->widgetsnbextension~=3.6.0->ipywidgets->gget<1.0.0,>=0.28.4->PyTDC) (3.1.3)\n",
            "Requirement already satisfied: nbclient>=0.5.0 in /usr/local/lib/python3.11/dist-packages (from nbconvert>=5->notebook>=4.4.1->widgetsnbextension~=3.6.0->ipywidgets->gget<1.0.0,>=0.28.4->PyTDC) (0.10.2)\n",
            "Requirement already satisfied: pandocfilters>=1.4.1 in /usr/local/lib/python3.11/dist-packages (from nbconvert>=5->notebook>=4.4.1->widgetsnbextension~=3.6.0->ipywidgets->gget<1.0.0,>=0.28.4->PyTDC) (1.5.1)\n",
            "Requirement already satisfied: fastjsonschema>=2.15 in /usr/local/lib/python3.11/dist-packages (from nbformat->notebook>=4.4.1->widgetsnbextension~=3.6.0->ipywidgets->gget<1.0.0,>=0.28.4->PyTDC) (2.21.1)\n",
            "Requirement already satisfied: jsonschema>=2.6 in /usr/local/lib/python3.11/dist-packages (from nbformat->notebook>=4.4.1->widgetsnbextension~=3.6.0->ipywidgets->gget<1.0.0,>=0.28.4->PyTDC) (4.24.0)\n",
            "Requirement already satisfied: argon2-cffi-bindings in /usr/local/lib/python3.11/dist-packages (from argon2-cffi->notebook>=4.4.1->widgetsnbextension~=3.6.0->ipywidgets->gget<1.0.0,>=0.28.4->PyTDC) (21.2.0)\n",
            "Requirement already satisfied: webencodings in /usr/local/lib/python3.11/dist-packages (from bleach!=5.0.0->bleach[css]!=5.0.0->nbconvert>=5->notebook>=4.4.1->widgetsnbextension~=3.6.0->ipywidgets->gget<1.0.0,>=0.28.4->PyTDC) (0.5.1)\n",
            "Requirement already satisfied: tinycss2<1.5,>=1.1.0 in /usr/local/lib/python3.11/dist-packages (from bleach[css]!=5.0.0->nbconvert>=5->notebook>=4.4.1->widgetsnbextension~=3.6.0->ipywidgets->gget<1.0.0,>=0.28.4->PyTDC) (1.4.0)\n",
            "Requirement already satisfied: jsonschema-specifications>=2023.03.6 in /usr/local/lib/python3.11/dist-packages (from jsonschema>=2.6->nbformat->notebook>=4.4.1->widgetsnbextension~=3.6.0->ipywidgets->gget<1.0.0,>=0.28.4->PyTDC) (2025.4.1)\n",
            "Requirement already satisfied: referencing>=0.28.4 in /usr/local/lib/python3.11/dist-packages (from jsonschema>=2.6->nbformat->notebook>=4.4.1->widgetsnbextension~=3.6.0->ipywidgets->gget<1.0.0,>=0.28.4->PyTDC) (0.36.2)\n",
            "Requirement already satisfied: rpds-py>=0.7.1 in /usr/local/lib/python3.11/dist-packages (from jsonschema>=2.6->nbformat->notebook>=4.4.1->widgetsnbextension~=3.6.0->ipywidgets->gget<1.0.0,>=0.28.4->PyTDC) (0.26.0)\n",
            "Requirement already satisfied: jupyter-server<3,>=1.8 in /usr/local/lib/python3.11/dist-packages (from notebook-shim>=0.2.3->nbclassic>=0.4.7->notebook>=4.4.1->widgetsnbextension~=3.6.0->ipywidgets->gget<1.0.0,>=0.28.4->PyTDC) (1.16.0)\n",
            "Requirement already satisfied: cffi>=1.0.1 in /usr/local/lib/python3.11/dist-packages (from argon2-cffi-bindings->argon2-cffi->notebook>=4.4.1->widgetsnbextension~=3.6.0->ipywidgets->gget<1.0.0,>=0.28.4->PyTDC) (1.17.1)\n",
            "Requirement already satisfied: pycparser in /usr/local/lib/python3.11/dist-packages (from cffi>=1.0.1->argon2-cffi-bindings->argon2-cffi->notebook>=4.4.1->widgetsnbextension~=3.6.0->ipywidgets->gget<1.0.0,>=0.28.4->PyTDC) (2.22)\n",
            "Requirement already satisfied: anyio>=3.1.0 in /usr/local/lib/python3.11/dist-packages (from jupyter-server<3,>=1.8->notebook-shim>=0.2.3->nbclassic>=0.4.7->notebook>=4.4.1->widgetsnbextension~=3.6.0->ipywidgets->gget<1.0.0,>=0.28.4->PyTDC) (4.9.0)\n",
            "Requirement already satisfied: websocket-client in /usr/local/lib/python3.11/dist-packages (from jupyter-server<3,>=1.8->notebook-shim>=0.2.3->nbclassic>=0.4.7->notebook>=4.4.1->widgetsnbextension~=3.6.0->ipywidgets->gget<1.0.0,>=0.28.4->PyTDC) (1.8.0)\n",
            "Requirement already satisfied: sniffio>=1.1 in /usr/local/lib/python3.11/dist-packages (from anyio>=3.1.0->jupyter-server<3,>=1.8->notebook-shim>=0.2.3->nbclassic>=0.4.7->notebook>=4.4.1->widgetsnbextension~=3.6.0->ipywidgets->gget<1.0.0,>=0.28.4->PyTDC) (1.3.1)\n",
            "Using cached torch_geometric-2.6.1-py3-none-any.whl (1.1 MB)\n",
            "Using cached accelerate-0.33.0-py3-none-any.whl (315 kB)\n",
            "Using cached cellxgene_census-1.15.0-py3-none-any.whl (51 kB)\n",
            "Using cached evaluate-0.4.2-py3-none-any.whl (84 kB)\n",
            "Using cached dataclasses-0.6-py3-none-any.whl (14 kB)\n",
            "Using cached fuzzywuzzy-0.18.0-py2.py3-none-any.whl (18 kB)\n",
            "Using cached gget-0.29.2-py3-none-any.whl (43.1 MB)\n",
            "Using cached numpy-1.26.4-cp311-cp311-manylinux_2_17_x86_64.manylinux2014_x86_64.whl (18.3 MB)\n",
            "Using cached rdkit-2023.9.6-cp311-cp311-manylinux_2_17_x86_64.manylinux2014_x86_64.whl (34.9 MB)\n",
            "Using cached tiledbsoma-1.11.4-cp311-cp311-manylinux_2_17_x86_64.manylinux2014_x86_64.whl (16.0 MB)\n",
            "Using cached somacore-1.0.11-py3-none-any.whl (35 kB)\n",
            "Using cached transformers-4.50.3-py3-none-any.whl (10.2 MB)\n",
            "Using cached anndata-0.11.4-py3-none-any.whl (144 kB)\n",
            "Using cached mysql_connector_python-9.3.0-cp311-cp311-manylinux_2_28_x86_64.whl (33.9 MB)\n",
            "Using cached s3fs-2025.3.2-py3-none-any.whl (30 kB)\n",
            "Using cached scanpy-1.11.3-py3-none-any.whl (2.1 MB)\n",
            "Using cached tiledb-0.29.1-cp311-cp311-manylinux_2_17_x86_64.manylinux2014_x86_64.whl (26.8 MB)\n",
            "Using cached nvidia_cublas_cu12-12.4.5.8-py3-none-manylinux2014_x86_64.whl (363.4 MB)\n",
            "Using cached nvidia_cuda_cupti_cu12-12.4.127-py3-none-manylinux2014_x86_64.whl (13.8 MB)\n",
            "Using cached nvidia_cuda_nvrtc_cu12-12.4.127-py3-none-manylinux2014_x86_64.whl (24.6 MB)\n",
            "Using cached nvidia_cuda_runtime_cu12-12.4.127-py3-none-manylinux2014_x86_64.whl (883 kB)\n",
            "Using cached nvidia_cudnn_cu12-9.1.0.70-py3-none-manylinux2014_x86_64.whl (664.8 MB)\n",
            "Using cached nvidia_cufft_cu12-11.2.1.3-py3-none-manylinux2014_x86_64.whl (211.5 MB)\n",
            "Using cached nvidia_curand_cu12-10.3.5.147-py3-none-manylinux2014_x86_64.whl (56.3 MB)\n",
            "Downloading nvidia_cusolver_cu12-11.6.1.9-py3-none-manylinux2014_x86_64.whl (127.9 MB)\n",
            "\u001b[2K   \u001b[90m━━━━━━━━━━━━━━━━━━━━━━━━━━━━━━━━━━━━━━━━\u001b[0m \u001b[32m127.9/127.9 MB\u001b[0m \u001b[31m7.1 MB/s\u001b[0m eta \u001b[36m0:00:00\u001b[0m\n",
            "\u001b[?25hDownloading nvidia_cusparse_cu12-12.3.1.170-py3-none-manylinux2014_x86_64.whl (207.5 MB)\n",
            "\u001b[2K   \u001b[90m━━━━━━━━━━━━━━━━━━━━━━━━━━━━━━━━━━━━━━━━\u001b[0m \u001b[32m207.5/207.5 MB\u001b[0m \u001b[31m5.7 MB/s\u001b[0m eta \u001b[36m0:00:00\u001b[0m\n",
            "\u001b[?25hDownloading nvidia_nvjitlink_cu12-12.4.127-py3-none-manylinux2014_x86_64.whl (21.1 MB)\n",
            "\u001b[2K   \u001b[90m━━━━━━━━━━━━━━━━━━━━━━━━━━━━━━━━━━━━━━━━\u001b[0m \u001b[32m21.1/21.1 MB\u001b[0m \u001b[31m93.4 MB/s\u001b[0m eta \u001b[36m0:00:00\u001b[0m\n",
            "\u001b[?25hDownloading pyarrow_hotfix-0.7-py3-none-any.whl (7.9 kB)\n",
            "Downloading aiobotocore-2.23.0-py3-none-any.whl (84 kB)\n",
            "\u001b[2K   \u001b[90m━━━━━━━━━━━━━━━━━━━━━━━━━━━━━━━━━━━━━━━━\u001b[0m \u001b[32m84.2/84.2 kB\u001b[0m \u001b[31m7.4 MB/s\u001b[0m eta \u001b[36m0:00:00\u001b[0m\n",
            "\u001b[?25hDownloading array_api_compat-1.12.0-py3-none-any.whl (58 kB)\n",
            "\u001b[2K   \u001b[90m━━━━━━━━━━━━━━━━━━━━━━━━━━━━━━━━━━━━━━━━\u001b[0m \u001b[32m58.2/58.2 kB\u001b[0m \u001b[31m5.3 MB/s\u001b[0m eta \u001b[36m0:00:00\u001b[0m\n",
            "\u001b[?25hDownloading jedi-0.19.2-py2.py3-none-any.whl (1.6 MB)\n",
            "\u001b[2K   \u001b[90m━━━━━━━━━━━━━━━━━━━━━━━━━━━━━━━━━━━━━━━━\u001b[0m \u001b[32m1.6/1.6 MB\u001b[0m \u001b[31m71.8 MB/s\u001b[0m eta \u001b[36m0:00:00\u001b[0m\n",
            "\u001b[?25hDownloading legacy_api_wrap-1.4.1-py3-none-any.whl (10.0 kB)\n",
            "Downloading session_info2-0.1.2-py3-none-any.whl (14 kB)\n",
            "Downloading aioitertools-0.12.0-py3-none-any.whl (24 kB)\n",
            "Downloading botocore-1.38.27-py3-none-any.whl (13.6 MB)\n",
            "\u001b[2K   \u001b[90m━━━━━━━━━━━━━━━━━━━━━━━━━━━━━━━━━━━━━━━━\u001b[0m \u001b[32m13.6/13.6 MB\u001b[0m \u001b[31m89.1 MB/s\u001b[0m eta \u001b[36m0:00:00\u001b[0m\n",
            "\u001b[?25hDownloading jmespath-1.0.1-py3-none-any.whl (20 kB)\n",
            "Building wheels for collected packages: PyTDC\n",
            "  Building wheel for PyTDC (setup.py) ... \u001b[?25l\u001b[?25hdone\n",
            "  Created wheel for PyTDC: filename=pytdc-1.1.15-py3-none-any.whl size=191643 sha256=d1cc104f8eb574fe45c56ec3b3052a54693b32bd3dda4c2374bf93e9f3f73b3e\n",
            "  Stored in directory: /root/.cache/pip/wheels/24/6a/27/95aa98f441aa4ae1845d105118d281003baa66883096fa0c2f\n",
            "Successfully built PyTDC\n",
            "Installing collected packages: fuzzywuzzy, dataclasses, session-info2, pyarrow-hotfix, nvidia-nvjitlink-cu12, nvidia-curand-cu12, nvidia-cufft-cu12, nvidia-cuda-runtime-cu12, nvidia-cuda-nvrtc-cu12, nvidia-cuda-cupti-cu12, nvidia-cublas-cu12, numpy, mysql-connector-python, legacy-api-wrap, jmespath, jedi, array-api-compat, aioitertools, tiledb, rdkit, nvidia-cusparse-cu12, nvidia-cudnn-cu12, botocore, torch_geometric, nvidia-cusolver-cu12, anndata, aiobotocore, transformers, somacore, s3fs, evaluate, accelerate, scanpy, tiledbsoma, cellxgene-census, gget, PyTDC\n",
            "  Attempting uninstall: nvidia-nvjitlink-cu12\n",
            "    Found existing installation: nvidia-nvjitlink-cu12 12.5.82\n",
            "    Uninstalling nvidia-nvjitlink-cu12-12.5.82:\n",
            "      Successfully uninstalled nvidia-nvjitlink-cu12-12.5.82\n",
            "  Attempting uninstall: nvidia-curand-cu12\n",
            "    Found existing installation: nvidia-curand-cu12 10.3.6.82\n",
            "    Uninstalling nvidia-curand-cu12-10.3.6.82:\n",
            "      Successfully uninstalled nvidia-curand-cu12-10.3.6.82\n",
            "  Attempting uninstall: nvidia-cufft-cu12\n",
            "    Found existing installation: nvidia-cufft-cu12 11.2.3.61\n",
            "    Uninstalling nvidia-cufft-cu12-11.2.3.61:\n",
            "      Successfully uninstalled nvidia-cufft-cu12-11.2.3.61\n",
            "  Attempting uninstall: nvidia-cuda-runtime-cu12\n",
            "    Found existing installation: nvidia-cuda-runtime-cu12 12.5.82\n",
            "    Uninstalling nvidia-cuda-runtime-cu12-12.5.82:\n",
            "      Successfully uninstalled nvidia-cuda-runtime-cu12-12.5.82\n",
            "  Attempting uninstall: nvidia-cuda-nvrtc-cu12\n",
            "    Found existing installation: nvidia-cuda-nvrtc-cu12 12.5.82\n",
            "    Uninstalling nvidia-cuda-nvrtc-cu12-12.5.82:\n",
            "      Successfully uninstalled nvidia-cuda-nvrtc-cu12-12.5.82\n",
            "  Attempting uninstall: nvidia-cuda-cupti-cu12\n",
            "    Found existing installation: nvidia-cuda-cupti-cu12 12.5.82\n",
            "    Uninstalling nvidia-cuda-cupti-cu12-12.5.82:\n",
            "      Successfully uninstalled nvidia-cuda-cupti-cu12-12.5.82\n",
            "  Attempting uninstall: nvidia-cublas-cu12\n",
            "    Found existing installation: nvidia-cublas-cu12 12.5.3.2\n",
            "    Uninstalling nvidia-cublas-cu12-12.5.3.2:\n",
            "      Successfully uninstalled nvidia-cublas-cu12-12.5.3.2\n",
            "  Attempting uninstall: numpy\n",
            "    Found existing installation: numpy 2.0.2\n",
            "    Uninstalling numpy-2.0.2:\n",
            "      Successfully uninstalled numpy-2.0.2\n",
            "  Attempting uninstall: nvidia-cusparse-cu12\n",
            "    Found existing installation: nvidia-cusparse-cu12 12.5.1.3\n",
            "    Uninstalling nvidia-cusparse-cu12-12.5.1.3:\n",
            "      Successfully uninstalled nvidia-cusparse-cu12-12.5.1.3\n",
            "  Attempting uninstall: nvidia-cudnn-cu12\n",
            "    Found existing installation: nvidia-cudnn-cu12 9.3.0.75\n",
            "    Uninstalling nvidia-cudnn-cu12-9.3.0.75:\n",
            "      Successfully uninstalled nvidia-cudnn-cu12-9.3.0.75\n",
            "  Attempting uninstall: nvidia-cusolver-cu12\n",
            "    Found existing installation: nvidia-cusolver-cu12 11.6.3.83\n",
            "    Uninstalling nvidia-cusolver-cu12-11.6.3.83:\n",
            "      Successfully uninstalled nvidia-cusolver-cu12-11.6.3.83\n",
            "  Attempting uninstall: transformers\n",
            "    Found existing installation: transformers 4.53.0\n",
            "    Uninstalling transformers-4.53.0:\n",
            "      Successfully uninstalled transformers-4.53.0\n",
            "  Attempting uninstall: accelerate\n",
            "    Found existing installation: accelerate 1.8.1\n",
            "    Uninstalling accelerate-1.8.1:\n",
            "      Successfully uninstalled accelerate-1.8.1\n",
            "\u001b[31mERROR: pip's dependency resolver does not currently take into account all the packages that are installed. This behaviour is the source of the following dependency conflicts.\n",
            "thinc 8.3.6 requires numpy<3.0.0,>=2.0.0, but you have numpy 1.26.4 which is incompatible.\u001b[0m\u001b[31m\n",
            "\u001b[0mSuccessfully installed PyTDC-1.1.15 accelerate-0.33.0 aiobotocore-2.23.0 aioitertools-0.12.0 anndata-0.11.4 array-api-compat-1.12.0 botocore-1.38.27 cellxgene-census-1.15.0 dataclasses-0.6 evaluate-0.4.2 fuzzywuzzy-0.18.0 gget-0.29.2 jedi-0.19.2 jmespath-1.0.1 legacy-api-wrap-1.4.1 mysql-connector-python-9.3.0 numpy-1.26.4 nvidia-cublas-cu12-12.4.5.8 nvidia-cuda-cupti-cu12-12.4.127 nvidia-cuda-nvrtc-cu12-12.4.127 nvidia-cuda-runtime-cu12-12.4.127 nvidia-cudnn-cu12-9.1.0.70 nvidia-cufft-cu12-11.2.1.3 nvidia-curand-cu12-10.3.5.147 nvidia-cusolver-cu12-11.6.1.9 nvidia-cusparse-cu12-12.3.1.170 nvidia-nvjitlink-cu12-12.4.127 pyarrow-hotfix-0.7 rdkit-2023.9.6 s3fs-2025.3.2 scanpy-1.11.3 session-info2-0.1.2 somacore-1.0.11 tiledb-0.29.1 tiledbsoma-1.11.4 torch_geometric-2.6.1 transformers-4.50.3\n"
          ]
        },
        {
          "output_type": "display_data",
          "data": {
            "application/vnd.colab-display-data+json": {
              "pip_warning": {
                "packages": [
                  "dataclasses",
                  "numpy"
                ]
              },
              "id": "4500eb3b094c4c5680e25dadae32d1b8"
            }
          },
          "metadata": {}
        }
      ],
      "source": [
        "!pip install torch_geometric PyTDC"
      ]
    },
    {
      "cell_type": "markdown",
      "source": [
        "# **(1) Preparing data set from theuraputics data common name DAVIS**"
      ],
      "metadata": {
        "id": "g_FAmmUEr8Ru"
      }
    },
    {
      "cell_type": "code",
      "source": [
        "from tdc.multi_pred import DTI\n",
        "data=DTI(name='DAVIS')\n",
        "df=data.get_data()\n",
        "print(df)"
      ],
      "metadata": {
        "colab": {
          "base_uri": "https://localhost:8080/"
        },
        "collapsed": true,
        "id": "GjlEKdjisS3r",
        "outputId": "0ce4fe5c-66f1-41c1-9a27-a56fe961fcb5"
      },
      "execution_count": 1,
      "outputs": [
        {
          "output_type": "stream",
          "name": "stderr",
          "text": [
            "Downloading...\n",
            "100%|██████████| 21.4M/21.4M [00:00<00:00, 46.8MiB/s]\n",
            "Loading...\n",
            "Done!\n"
          ]
        },
        {
          "output_type": "stream",
          "name": "stdout",
          "text": [
            "        Drug_ID                                           Drug Target_ID  \\\n",
            "0      11314340  Cc1[nH]nc2ccc(-c3cncc(OCC(N)Cc4ccccc4)c3)cc12      AAK1   \n",
            "1      11314340  Cc1[nH]nc2ccc(-c3cncc(OCC(N)Cc4ccccc4)c3)cc12     ABL1p   \n",
            "2      11314340  Cc1[nH]nc2ccc(-c3cncc(OCC(N)Cc4ccccc4)c3)cc12      ABL2   \n",
            "3      11314340  Cc1[nH]nc2ccc(-c3cncc(OCC(N)Cc4ccccc4)c3)cc12     ACVR1   \n",
            "4      11314340  Cc1[nH]nc2ccc(-c3cncc(OCC(N)Cc4ccccc4)c3)cc12    ACVR1B   \n",
            "...         ...                                            ...       ...   \n",
            "25767    151194         Clc1ccc(Nc2nnc(Cc3ccncc3)c3ccccc23)cc1       YES   \n",
            "25768    151194         Clc1ccc(Nc2nnc(Cc3ccncc3)c3ccccc23)cc1      YSK1   \n",
            "25769    151194         Clc1ccc(Nc2nnc(Cc3ccncc3)c3ccccc23)cc1      YSK4   \n",
            "25770    151194         Clc1ccc(Nc2nnc(Cc3ccncc3)c3ccccc23)cc1       ZAK   \n",
            "25771    151194         Clc1ccc(Nc2nnc(Cc3ccncc3)c3ccccc23)cc1     ZAP70   \n",
            "\n",
            "                                                  Target        Y  \n",
            "0      MKKFFDSRREQGGSGLGSGSSGGGGSTSGLGSGYIGRVFGIGRQQV...     43.0  \n",
            "1      PFWKILNPLLERGTYYYFMGQQPGKVLGDQRRPSLPALHFIKGAGK...  10000.0  \n",
            "2      MVLGTVLLPPNSYGRDQDTSLCCLCTEASESALPDLTDHFASCVED...  10000.0  \n",
            "3      MVDGVMILPVLIMIALPSPSMEDEKPKVNPKLYMCVCEGLSCGNED...  10000.0  \n",
            "4      MAESAGASSFFPLVVLLLAGSGGSGPRGVQALLCACTSCLQANYTC...  10000.0  \n",
            "...                                                  ...      ...  \n",
            "25767  MGCIKSKENKSPAIKYRPENTPEPVSTSVSHYGAEPTTVSPCPSSS...  10000.0  \n",
            "25768  MAHLRGFANQHSRVDPEELFTKLDRIGKGSFGEVYKGIDNHTKEVV...  10000.0  \n",
            "25769  MSSMPKPERHAESLLDICHDTNSSPTDLMTVTKNQNIILQSISRSE...   1900.0  \n",
            "25770  MSSLGASFVQIKFDDLQFFENCGGGSFGSVYRAKWISQDKEVAVKK...   4400.0  \n",
            "25771  MPDPAAHLPFFYGSISRAEAEEHLKLAGMADGLFLLRQCLRSLGGY...  10000.0  \n",
            "\n",
            "[25772 rows x 5 columns]\n"
          ]
        }
      ]
    },
    {
      "cell_type": "code",
      "source": [
        "def classify(kd):\n",
        "  if kd < 1000:\n",
        "    return 1\n",
        "  else:\n",
        "    return 0\n",
        "\n",
        "df['label']=df['Y'].apply(classify)\n",
        "print(df['label'])"
      ],
      "metadata": {
        "colab": {
          "base_uri": "https://localhost:8080/"
        },
        "collapsed": true,
        "id": "yo-UC2EA8OQ1",
        "outputId": "d13c1831-71c0-496b-8135-f84a8e0ad261"
      },
      "execution_count": 2,
      "outputs": [
        {
          "output_type": "stream",
          "name": "stdout",
          "text": [
            "0        1\n",
            "1        0\n",
            "2        0\n",
            "3        0\n",
            "4        0\n",
            "        ..\n",
            "25767    0\n",
            "25768    0\n",
            "25769    0\n",
            "25770    0\n",
            "25771    0\n",
            "Name: label, Length: 25772, dtype: int64\n"
          ]
        }
      ]
    },
    {
      "cell_type": "code",
      "source": [
        "from sklearn.model_selection import train_test_split\n",
        "#\n",
        "train_df, test_df = train_test_split(df, test_size=0.2, random_state=42)\n",
        "\n",
        "# Then, split the remaining data into training and validation sets (validation: 20% of original)\n",
        "train_df, val_df = train_test_split(train_df, test_size=0.25, random_state=42)\n",
        "# train_df = 60%, val_df = 20%, test_df = 20%\n",
        "print(train_df.shape)"
      ],
      "metadata": {
        "id": "whUc2I9MSKIb",
        "colab": {
          "base_uri": "https://localhost:8080/"
        },
        "outputId": "4b590688-4810-47b5-883e-1b72f54c1c62"
      },
      "execution_count": 3,
      "outputs": [
        {
          "output_type": "stream",
          "name": "stdout",
          "text": [
            "(15462, 6)\n"
          ]
        }
      ]
    },
    {
      "cell_type": "code",
      "source": [
        "# creating dictonary for protein encoding\n",
        "import torch\n",
        "aminomap={a: i+1 for i,a in enumerate('ACDEFGHIKLMNPQRSTVWY')}\n",
        "\n",
        "def encode_protein(sqn):\n",
        "  # sqn to list by aminomap\n",
        "  maxlen=512\n",
        "  sqn_idx=[]\n",
        "  for a in sqn:\n",
        "    sqn_idx+=[aminomap.get(a,0)]\n",
        "  if len(sqn) < maxlen:\n",
        "    sqn_idx+=[0]*(maxlen-len(sqn))\n",
        "  sqn_idx = sqn_idx[:maxlen]\n",
        "  return torch.tensor(sqn_idx,dtype=torch.long)"
      ],
      "metadata": {
        "id": "g3gVxDWeun7R"
      },
      "execution_count": 4,
      "outputs": []
    },
    {
      "cell_type": "code",
      "source": [
        "# converting SMILE to Graph\n",
        "import pandas as pd\n",
        "from rdkit import Chem\n",
        "from rdkit.Chem import rdmolops\n",
        "def atomfeatures(atom):\n",
        "  return [\n",
        "       atom.GetAtomicNum(),                   # 1. Atomic number\n",
        "       atom.GetDegree(),                      # 2. Number of bonded neighbors\n",
        "       atom.GetFormalCharge(),                # 3. Formal charge\n",
        "       atom.GetNumExplicitHs(),               # 4. Number of H atoms\n",
        "       int(atom.GetIsAromatic()),             # 5. Aromatic or not (1/0)\n",
        "       int(atom.GetHybridization()),          # 6. Hybridization state\n",
        "       int(atom.GetChiralTag())               # 7. Chirality\n",
        "  ]\n",
        "def graphconvert(smile):\n",
        "  mol=Chem.MolFromSmiles(smile)\n",
        "  temp=[]\n",
        "  for i,a in enumerate(mol.GetAtoms()):\n",
        "    temp.append(atomfeatures(a))\n",
        "  x=torch.tensor(temp,dtype=torch.float32)\n",
        "  edge_index=torch.tensor(rdmolops.GetAdjacencyMatrix(mol).nonzero(),dtype=torch.long)\n",
        "  return x,edge_index\n"
      ],
      "metadata": {
        "id": "thGmmXgh19Pc"
      },
      "execution_count": 5,
      "outputs": []
    },
    {
      "cell_type": "code",
      "source": [
        "from torch_geometric.data import Data, Dataset\n",
        "class GNN_CNNDataset(Dataset):\n",
        "    def __init__(self, df):\n",
        "        self.df = df.reset_index(drop=True)\n",
        "\n",
        "    def __len__(self):\n",
        "        return len(self.df)\n",
        "\n",
        "    def __getitem__(self, idx):\n",
        "        row = self.df.iloc[idx]\n",
        "        smile = row['Drug']\n",
        "        seq = row['Target']\n",
        "        label = row['label']\n",
        "        label = torch.tensor([label], dtype=torch.long)\n",
        "        x, edge_index = graphconvert(smile)\n",
        "        protein_tensor = encode_protein(seq).unsqueeze(0)\n",
        "        data = Data(x=x, edge_index=edge_index, y=label)\n",
        "        data.protein = protein_tensor\n",
        "        return data"
      ],
      "metadata": {
        "id": "8YbwndPa_NtR"
      },
      "execution_count": 6,
      "outputs": []
    },
    {
      "cell_type": "code",
      "source": [
        "\n",
        "train_dataset = GNN_CNNDataset(train_df)\n",
        "val_dataset = GNN_CNNDataset(val_df)\n",
        "test_dataset = GNN_CNNDataset(test_df)"
      ],
      "metadata": {
        "collapsed": true,
        "id": "i_7EcmivHKRO"
      },
      "execution_count": 7,
      "outputs": []
    },
    {
      "cell_type": "markdown",
      "source": [
        "# (2) Model creation GNN(atoms/molecule) + CNN(protein)**"
      ],
      "metadata": {
        "id": "yVMCgveWQjFD"
      }
    },
    {
      "cell_type": "code",
      "source": [
        "import torch\n",
        "import torch.nn as nn\n",
        "from torch_geometric.nn import global_mean_pool, BatchNorm ,GINConv\n",
        "from sklearn.metrics import accuracy_score\n",
        "class GINLayer(nn.Module):\n",
        "    def __init__(self, in_channels, out_channels):\n",
        "        super().__init__()\n",
        "        nn_seq = nn.Sequential(\n",
        "            nn.Linear(in_channels, out_channels),\n",
        "            nn.ReLU(),\n",
        "            nn.Linear(out_channels, out_channels)\n",
        "        )\n",
        "        self.conv = GINConv(nn_seq)\n",
        "        self.bn = BatchNorm(out_channels)\n",
        "\n",
        "    def forward(self, x, edge_index):\n",
        "        x = self.conv(x, edge_index)\n",
        "        x = self.bn(x)\n",
        "        return x\n",
        "class GINEncoder(nn.Module):\n",
        "    def __init__(self, in_channels, hidden, out_channels):\n",
        "        super().__init__()\n",
        "        self.gin1 = GINLayer(in_channels, hidden)\n",
        "        self.gin2 = GINLayer(hidden, hidden)\n",
        "        self.gin3 = GINLayer(hidden, out_channels)\n",
        "\n",
        "    def forward(self, x, edge_index, batch):\n",
        "        x = self.gin1(x, edge_index)\n",
        "        x = self.gin2(x, edge_index)\n",
        "        x = self.gin3(x, edge_index)\n",
        "        x = global_mean_pool(x, batch)\n",
        "        return x\n",
        "class CNNEncoder(nn.Module):\n",
        "    def __init__(self, vocab_size, embed_dim, out_channels):\n",
        "        super().__init__()\n",
        "        self.embed = nn.Embedding(vocab_size, embed_dim, padding_idx=0)\n",
        "        self.conv1 = nn.Conv1d(embed_dim, 64, kernel_size=3, padding=1)\n",
        "        self.conv2 = nn.Conv1d(64, out_channels, kernel_size=5, padding=2)\n",
        "        self.pool = nn.AdaptiveMaxPool1d(1)\n",
        "        self.bn1 = nn.BatchNorm1d(64)\n",
        "        self.bn2 = nn.BatchNorm1d(out_channels)\n",
        "\n",
        "    def forward(self, seq):\n",
        "        x = self.embed(seq.long()).transpose(1, 2)  # (B, embed_dim, 2000)\n",
        "        x = torch.relu(self.bn1(self.conv1(x)))     # (B, 64, 2000)\n",
        "        x = torch.relu(self.bn2(self.conv2(x)))     # (B, out_channels, 2000)\n",
        "        x = self.pool(x).squeeze(-1)                # (B, out_channels)\n",
        "        return x\n",
        "\n",
        "class GIN_CNN_Model(nn.Module):\n",
        "    def __init__(self, atom_feat_dim, prot_vocab_size):\n",
        "        super().__init__()\n",
        "        self.gnn = GINEncoder(atom_feat_dim, 64, 128)\n",
        "        self.cnn = CNNEncoder(vocab_size=prot_vocab_size, embed_dim=32, out_channels=128)\n",
        "        self.fc = nn.Sequential(\n",
        "            nn.Linear(256, 128),\n",
        "            nn.BatchNorm1d(128),\n",
        "            nn.ReLU(),\n",
        "            nn.Dropout(0.3),\n",
        "            nn.Linear(128, 1)\n",
        "        )\n",
        "\n",
        "    def forward(self, batch):\n",
        "        drug_emb = self.gnn(batch.x, batch.edge_index, batch.batch)\n",
        "        prot_emb = self.cnn(batch.protein)\n",
        "        out = torch.cat([drug_emb, prot_emb], dim=1)\n",
        "        return self.fc(out)\n"
      ],
      "metadata": {
        "id": "uPsryyfHQhpX"
      },
      "execution_count": 25,
      "outputs": []
    },
    {
      "cell_type": "code",
      "source": [
        "from torch_geometric.loader import DataLoader\n",
        "train_loader = DataLoader(train_dataset, batch_size=32, shuffle=True)\n",
        "for batch in train_loader:\n",
        "    print(batch.protein.shape)\n",
        "    break"
      ],
      "metadata": {
        "colab": {
          "base_uri": "https://localhost:8080/"
        },
        "id": "boRQD9mWGO9y",
        "outputId": "1adf1d4e-97fa-48f4-eada-b16358cf2bc7"
      },
      "execution_count": 10,
      "outputs": [
        {
          "output_type": "stream",
          "name": "stdout",
          "text": [
            "torch.Size([32, 512])\n"
          ]
        }
      ]
    },
    {
      "cell_type": "code",
      "source": [
        "from torch_geometric.loader import DataLoader\n",
        "from sklearn.metrics import accuracy_score\n",
        "import time\n",
        "model = GIN_CNN_Model(atom_feat_dim=7, prot_vocab_size=21)\n",
        "optimizer = torch.optim.Adam(model.parameters(), lr=1e-3)\n",
        "criterion = nn.BCEWithLogitsLoss()\n",
        "\n",
        "train_loader = DataLoader(train_dataset, batch_size=32, shuffle=True)\n",
        "val_loader = DataLoader(val_dataset, batch_size=32)\n",
        "test_loader = DataLoader(test_dataset, batch_size=32)\n",
        "num_epochs=9\n",
        "for epoch in range(num_epochs):\n",
        "    print('epoch == ',epoch+1)\n",
        "    model.train()\n",
        "    i=1\n",
        "    for batch in train_loader:\n",
        "      optimizer.zero_grad()\n",
        "      logits = model(batch)\n",
        "      loss = criterion(logits.view(-1), batch.y.float())\n",
        "      loss.backward()\n",
        "      if i%100==0:\n",
        "        print(f\"|| training Loss from {(32*i)} samples: {loss.item():.4f}\" )\n",
        "      optimizer.step()\n",
        "      i+=1\n",
        "      print(f\"\\r\\033[KPercent epoch {( i*100/485):.4f} % || training Loss from {(i)} samples: {loss.item():.4f} \", end='', flush=True)\n",
        "    model.eval()\n",
        "    with torch.no_grad():\n",
        "      all_preds, all_labels = [], []\n",
        "      for batch in val_loader:\n",
        "            logits = model(batch)\n",
        "            preds = (torch.sigmoid(logits) > 0.5).int().cpu().numpy()\n",
        "            labels = batch.y.int().cpu().numpy()\n",
        "            all_preds.extend(preds)\n",
        "            all_labels.extend(labels)\n",
        "    accuracy = accuracy_score(all_labels, all_preds)\n",
        "    print(f\"cross-validation Accuracy: {accuracy:.4f}\")\n"
      ],
      "metadata": {
        "colab": {
          "base_uri": "https://localhost:8080/"
        },
        "id": "99ry31hlQ_m_",
        "outputId": "785bab0b-c4db-47ac-f917-fb370d726590"
      },
      "execution_count": 30,
      "outputs": [
        {
          "output_type": "stream",
          "name": "stdout",
          "text": [
            "epoch ==  1\n",
            "\u001b[KPercent epoch 20.6186 % || training Loss from 100 samples: 0.4026 || training Loss from 3200 samples: 0.3951\n",
            "\u001b[KPercent epoch 41.2371 % || training Loss from 200 samples: 0.3147 || training Loss from 6400 samples: 0.4303\n",
            "\u001b[KPercent epoch 61.8557 % || training Loss from 300 samples: 0.2347 || training Loss from 9600 samples: 0.3570\n",
            "\u001b[KPercent epoch 82.4742 % || training Loss from 400 samples: 0.3416 || training Loss from 12800 samples: 0.3065\n",
            "\u001b[KPercent epoch 100.0000 % || training Loss from 485 samples: 0.2081 cross-validation Accuracy: 0.8221\n",
            "epoch ==  2\n",
            "\u001b[KPercent epoch 20.6186 % || training Loss from 100 samples: 0.5882 || training Loss from 3200 samples: 0.3088\n",
            "\u001b[KPercent epoch 41.2371 % || training Loss from 200 samples: 0.3838 || training Loss from 6400 samples: 0.2512\n",
            "\u001b[KPercent epoch 61.8557 % || training Loss from 300 samples: 0.2607 || training Loss from 9600 samples: 0.5394\n",
            "\u001b[KPercent epoch 82.4742 % || training Loss from 400 samples: 0.3009 || training Loss from 12800 samples: 0.4764\n",
            "\u001b[KPercent epoch 100.0000 % || training Loss from 485 samples: 0.2658 cross-validation Accuracy: 0.8485\n",
            "epoch ==  3\n",
            "\u001b[KPercent epoch 20.6186 % || training Loss from 100 samples: 0.3402 || training Loss from 3200 samples: 0.3468\n",
            "\u001b[KPercent epoch 41.2371 % || training Loss from 200 samples: 0.2405 || training Loss from 6400 samples: 0.4424\n",
            "\u001b[KPercent epoch 61.8557 % || training Loss from 300 samples: 0.4754 || training Loss from 9600 samples: 0.3774\n",
            "\u001b[KPercent epoch 82.4742 % || training Loss from 400 samples: 0.3510 || training Loss from 12800 samples: 0.2548\n",
            "\u001b[KPercent epoch 100.0000 % || training Loss from 485 samples: 0.3831 cross-validation Accuracy: 0.8491\n",
            "epoch ==  4\n",
            "\u001b[KPercent epoch 20.6186 % || training Loss from 100 samples: 0.2452 || training Loss from 3200 samples: 0.2178\n",
            "\u001b[KPercent epoch 41.2371 % || training Loss from 200 samples: 0.2796 || training Loss from 6400 samples: 0.3489\n",
            "\u001b[KPercent epoch 61.8557 % || training Loss from 300 samples: 0.4039 || training Loss from 9600 samples: 0.1910\n",
            "\u001b[KPercent epoch 82.4742 % || training Loss from 400 samples: 0.3009 || training Loss from 12800 samples: 0.2390\n",
            "\u001b[KPercent epoch 100.0000 % || training Loss from 485 samples: 0.0863 cross-validation Accuracy: 0.8524\n",
            "epoch ==  5\n",
            "\u001b[KPercent epoch 20.6186 % || training Loss from 100 samples: 0.3424 || training Loss from 3200 samples: 0.2287\n",
            "\u001b[KPercent epoch 41.2371 % || training Loss from 200 samples: 0.3966 || training Loss from 6400 samples: 0.3636\n",
            "\u001b[KPercent epoch 61.8557 % || training Loss from 300 samples: 0.3249 || training Loss from 9600 samples: 0.3739\n",
            "\u001b[KPercent epoch 82.4742 % || training Loss from 400 samples: 0.3349 || training Loss from 12800 samples: 0.2782\n",
            "\u001b[KPercent epoch 100.0000 % || training Loss from 485 samples: 0.1127 cross-validation Accuracy: 0.8557\n",
            "epoch ==  6\n",
            "\u001b[KPercent epoch 20.6186 % || training Loss from 100 samples: 0.3881 || training Loss from 3200 samples: 0.4442\n",
            "\u001b[KPercent epoch 41.2371 % || training Loss from 200 samples: 0.2699 || training Loss from 6400 samples: 0.2671\n",
            "\u001b[KPercent epoch 61.8557 % || training Loss from 300 samples: 0.3173 || training Loss from 9600 samples: 0.3742\n",
            "\u001b[KPercent epoch 82.4742 % || training Loss from 400 samples: 0.4471 || training Loss from 12800 samples: 0.3384\n",
            "\u001b[KPercent epoch 100.0000 % || training Loss from 485 samples: 0.0608 cross-validation Accuracy: 0.8601\n",
            "epoch ==  7\n",
            "\u001b[KPercent epoch 20.6186 % || training Loss from 100 samples: 0.2502 || training Loss from 3200 samples: 0.3809\n",
            "\u001b[KPercent epoch 41.2371 % || training Loss from 200 samples: 0.2394 || training Loss from 6400 samples: 0.2543\n",
            "\u001b[KPercent epoch 61.8557 % || training Loss from 300 samples: 0.3961 || training Loss from 9600 samples: 0.3431\n",
            "\u001b[KPercent epoch 82.4742 % || training Loss from 400 samples: 0.2437 || training Loss from 12800 samples: 0.2008\n",
            "\u001b[KPercent epoch 100.0000 % || training Loss from 485 samples: 0.1496 cross-validation Accuracy: 0.7905\n",
            "epoch ==  8\n",
            "\u001b[KPercent epoch 20.6186 % || training Loss from 100 samples: 0.3368 || training Loss from 3200 samples: 0.3194\n",
            "\u001b[KPercent epoch 41.2371 % || training Loss from 200 samples: 0.2762 || training Loss from 6400 samples: 0.3039\n",
            "\u001b[KPercent epoch 61.8557 % || training Loss from 300 samples: 0.3021 || training Loss from 9600 samples: 0.3194\n",
            "\u001b[KPercent epoch 82.4742 % || training Loss from 400 samples: 0.2465 || training Loss from 12800 samples: 0.4078\n",
            "\u001b[KPercent epoch 100.0000 % || training Loss from 485 samples: 0.3859 cross-validation Accuracy: 0.8345\n",
            "epoch ==  9\n",
            "\u001b[KPercent epoch 20.6186 % || training Loss from 100 samples: 0.3090 || training Loss from 3200 samples: 0.1643\n",
            "\u001b[KPercent epoch 41.2371 % || training Loss from 200 samples: 0.2908 || training Loss from 6400 samples: 0.2701\n",
            "\u001b[KPercent epoch 61.8557 % || training Loss from 300 samples: 0.2903 || training Loss from 9600 samples: 0.2574\n",
            "\u001b[KPercent epoch 82.4742 % || training Loss from 400 samples: 0.2795 || training Loss from 12800 samples: 0.2029\n",
            "\u001b[KPercent epoch 100.0000 % || training Loss from 485 samples: 0.1433 cross-validation Accuracy: 0.8609\n"
          ]
        }
      ]
    },
    {
      "cell_type": "markdown",
      "source": [
        "## **(3) EVALUATION OF MODEL**"
      ],
      "metadata": {
        "id": "J6JU3S_7afhv"
      }
    },
    {
      "cell_type": "code",
      "source": [
        "model.eval()\n",
        "all_preds, all_labels = [], []\n",
        "with torch.no_grad():\n",
        "    for batch in train_loader:  # Use the correct DataLoader from torch_geometric\n",
        "         logits = model(batch)\n",
        "         preds = (torch.sigmoid(logits) > 0.6).int().cpu().numpy()\n",
        "         labels = batch.y.int().cpu().numpy()\n",
        "         all_preds.extend(preds)\n",
        "         all_labels.extend(labels)\n",
        "    accuracy = accuracy_score(all_labels, all_preds)\n",
        "print(f\"training set Accuracy: {accuracy:.4f}\")\n",
        "\n",
        "from sklearn.metrics import confusion_matrix, ConfusionMatrixDisplay\n",
        "\n",
        "cm = confusion_matrix(all_labels, all_preds, labels=[0, 1])\n",
        "print(cm)\n",
        "import matplotlib.pyplot as plt\n",
        "disp = ConfusionMatrixDisplay(confusion_matrix=cm)\n",
        "disp.plot(cmap='Blues')\n",
        "plt.show()"
      ],
      "metadata": {
        "colab": {
          "base_uri": "https://localhost:8080/",
          "height": 501
        },
        "id": "pzf5c1TP32sg",
        "outputId": "2bf906f8-b9a9-4eb4-d74c-34765acffb5c"
      },
      "execution_count": 37,
      "outputs": [
        {
          "output_type": "stream",
          "name": "stdout",
          "text": [
            "training set Accuracy: 0.8881\n",
            "[[12315   545]\n",
            " [ 1185  1417]]\n"
          ]
        },
        {
          "output_type": "display_data",
          "data": {
            "text/plain": [
              "<Figure size 640x480 with 2 Axes>"
            ],
            "image/png": "[encoded data removed]"
          },
          "metadata": {}
        }
      ]
    },
    {
      "cell_type": "code",
      "source": [
        "model.eval()\n",
        "all_preds, all_labels = [], []\n",
        "with torch.no_grad():\n",
        "    for batch in test_loader:  # Use the correct DataLoader from torch_geometric\n",
        "         logits = model(batch)\n",
        "         preds = (torch.sigmoid(logits) > 0.5).int().cpu().numpy()\n",
        "         labels = batch.y.int().cpu().numpy()\n",
        "         all_preds.extend(preds)\n",
        "         all_labels.extend(labels)\n",
        "    accuracy = accuracy_score(all_labels, all_preds)\n",
        "print(f\"test Accuracy: {accuracy:.4f}\")\n",
        "\n",
        "from sklearn.metrics import confusion_matrix, ConfusionMatrixDisplay , f1_score\n",
        "\n",
        "cm = confusion_matrix(all_labels, all_preds, labels=[0, 1])\n",
        "print(cm)\n",
        "import matplotlib.pyplot as plt\n",
        "disp = ConfusionMatrixDisplay(confusion_matrix=cm)\n",
        "disp.plot()\n",
        "print(f1_score(all_labels,all_preds))\n",
        "plt.show()"
      ],
      "metadata": {
        "id": "TWvqAXcaRHtm",
        "colab": {
          "base_uri": "https://localhost:8080/",
          "height": 518
        },
        "outputId": "ee646231-4752-418c-a8f1-1586b39ff00a"
      },
      "execution_count": 45,
      "outputs": [
        {
          "output_type": "stream",
          "name": "stdout",
          "text": [
            "test Accuracy: 0.8739\n",
            "[[4089  214]\n",
            " [ 436  416]]\n",
            "0.5614035087719298\n"
          ]
        },
        {
          "output_type": "display_data",
          "data": {
            "text/plain": [
              "<Figure size 640x480 with 2 Axes>"
            ],
            "image/png": "[encoded data removed]"
          },
          "metadata": {}
        }
      ]
    }
  ]
}